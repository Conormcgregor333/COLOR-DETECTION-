{
 "cells": [
  {
   "cell_type": "markdown",
   "id": "73e10d6f",
   "metadata": {},
   "source": [
    "# COLOUR DETECTION USING MACHINE LEARNING"
   ]
  },
  {
   "cell_type": "markdown",
   "id": "c0bee142",
   "metadata": {},
   "source": [
    "![alt text](h.jpg \"Title\")"
   ]
  },
  {
   "cell_type": "markdown",
   "id": "9deb2468",
   "metadata": {},
   "source": [
    "### WE CAN DETECT COLOUR OF AT ANY POINT ON THE IMAGE USING MACHINE LEARNING.\n",
    "### WE WILL USE OPEN CV FOR THIS."
   ]
  },
  {
   "cell_type": "markdown",
   "id": "b415c466",
   "metadata": {},
   "source": [
    "### Q) WHAT IS OPEN CV IN PYTHON ?"
   ]
  },
  {
   "cell_type": "markdown",
   "id": "c9e3ec52",
   "metadata": {},
   "source": [
    "OpenCV is a library of programming functions mainly aimed at real-time computer vision. We can read an image just like a csv file and can perform various methods on it like resize and many more."
   ]
  },
  {
   "cell_type": "code",
   "execution_count": null,
   "id": "f83ce696",
   "metadata": {},
   "outputs": [],
   "source": [
    "import pandas as pd"
   ]
  },
  {
   "cell_type": "code",
   "execution_count": null,
   "id": "68315c72",
   "metadata": {},
   "outputs": [],
   "source": [
    "!pip install opencv-python"
   ]
  },
  {
   "cell_type": "markdown",
   "id": "74cac39a",
   "metadata": {},
   "source": [
    "cv2 is just like pandas , instead of csv files we read images,video etc here."
   ]
  },
  {
   "cell_type": "code",
   "execution_count": null,
   "id": "be41ffe0",
   "metadata": {},
   "outputs": [],
   "source": [
    "import cv2"
   ]
  },
  {
   "cell_type": "code",
   "execution_count": null,
   "id": "692bd753",
   "metadata": {},
   "outputs": [],
   "source": [
    "img_path=r'h.jpg'"
   ]
  },
  {
   "cell_type": "markdown",
   "id": "c9a49633",
   "metadata": {},
   "source": [
    "THE imread METHOD IN THE CV2 HELPS IN READING AN IMAGE JUST LIKE A CSV FILE."
   ]
  },
  {
   "cell_type": "code",
   "execution_count": null,
   "id": "c92d8f3f",
   "metadata": {},
   "outputs": [],
   "source": [
    "img=cv2.imread(img_path)"
   ]
  },
  {
   "cell_type": "code",
   "execution_count": null,
   "id": "2b09f229",
   "metadata": {},
   "outputs": [],
   "source": [
    "clicked=False"
   ]
  },
  {
   "cell_type": "code",
   "execution_count": null,
   "id": "397b9408",
   "metadata": {},
   "outputs": [],
   "source": [
    "r=g=b=x_position=y_position=0"
   ]
  },
  {
   "cell_type": "code",
   "execution_count": null,
   "id": "d59dabdb",
   "metadata": {},
   "outputs": [],
   "source": [
    "colors_df=pd.read_csv('https://raw.githubusercontent.com/codebrainz/color-names/master/output/colors.csv')"
   ]
  },
  {
   "cell_type": "code",
   "execution_count": null,
   "id": "d41a2750",
   "metadata": {},
   "outputs": [],
   "source": [
    "colors_df.head()"
   ]
  },
  {
   "cell_type": "markdown",
   "id": "d4f26794",
   "metadata": {},
   "source": [
    "THE DATA FRAME DID NOT HAD COLUMN NAMES, SO WE NEED TO PUT THE COLUMN IN IT, SO THAT LATER WHEN WE WANT TOLOCATE A SPECIFIC ROW OR ITS ELEMENT , WE CAN DO THAT."
   ]
  },
  {
   "cell_type": "code",
   "execution_count": null,
   "id": "be0c0248",
   "metadata": {},
   "outputs": [],
   "source": [
    "index=[\"color\",\"color_name\",\"hex_decimal\",\"R\",\"G\",\"B\"]"
   ]
  },
  {
   "cell_type": "code",
   "execution_count": null,
   "id": "72b5ac84",
   "metadata": {},
   "outputs": [],
   "source": [
    "colors_df=pd.read_csv('https://raw.githubusercontent.com/codebrainz/color-names/master/output/colors.csv',names=index,header=None)"
   ]
  },
  {
   "cell_type": "code",
   "execution_count": null,
   "id": "e18a22d5",
   "metadata": {},
   "outputs": [],
   "source": [
    "colors_df.head()"
   ]
  },
  {
   "cell_type": "markdown",
   "id": "b5d46dbb",
   "metadata": {},
   "source": [
    "WE WILL NEED TO RESIZE THE IMAGE AS IF WE DONT DO SO, THEN OUR IMAGE MIGHT SHOW UP VERY LARGE IN A WINDOW.\n"
   ]
  },
  {
   "cell_type": "code",
   "execution_count": null,
   "id": "e3351c41",
   "metadata": {},
   "outputs": [],
   "source": [
    "img=cv2.resize(img,(800,600))"
   ]
  },
  {
   "cell_type": "markdown",
   "id": "48f87511",
   "metadata": {},
   "source": [
    "### DEFINING THE FIRST FUNCTION-"
   ]
  },
  {
   "cell_type": "markdown",
   "id": "2cf8c9d2",
   "metadata": {},
   "source": [
    "WE HAVE DEFINES A FUNCTION find_bgr . THIS FUNCTION IS BINDED TO setMouseCallback.(Threfor there is no need to pass any arguement when we call it). IT HAS ARGUEMENTS AS event,x,y,flag and params. BY THIS FUNCTION WE GET THE VALUES OF B,G,R  AT ANY\n",
    "  COORDINATE ON THE IMAGE. AND THEN BY img[y,x] WE EXTRACT THE VALUES OF B,G,R AND CONVERT THEM TO INTEGER."
   ]
  },
  {
   "cell_type": "markdown",
   "id": "f9372b86",
   "metadata": {},
   "source": [
    "WE DECLARED SOME GLOBAL VARIABLES INSIDE THE FUNCTION AS WE WILL NEED THERE VALUES OUT SIDE THE FUNCTION."
   ]
  },
  {
   "cell_type": "code",
   "execution_count": null,
   "id": "09e15cc2",
   "metadata": {},
   "outputs": [],
   "source": [
    "def find_bgr(event,x,y,flag,params):\n",
    "    if event == cv2.EVENT_LBUTTONDBLCLK:\n",
    "        global x_position,y_position,clicked,r,g,b\n",
    "        clicked=True\n",
    "        b,g,r=img[y,x]\n",
    "        y_position=y\n",
    "        x_position=x\n",
    "        b=int(b)\n",
    "        g=int(g)\n",
    "        r=int(r)\n",
    "        \n",
    "    "
   ]
  },
  {
   "cell_type": "markdown",
   "id": "0e970339",
   "metadata": {},
   "source": [
    "### DEFINING THE SECOND FUNCTION-"
   ]
  },
  {
   "cell_type": "markdown",
   "id": "b439a3ee",
   "metadata": {},
   "source": [
    "NOW THE FUNCTION WE ARE GOING TO DEFINE IS VERY CRUCIAL AS IT WILL TELL US THE COLOUR NAME. WE HAVE ARGUMENTS AS B,G,R .WE HAVE SET A MINIMUM VALUE AS 1000. NOW ITERATING USING A FOR LOOP WE FIND OUT THE SUM OF THE ABSOLUTE VALUES OF THE DIFFERENCE OF THE R,G,B VALUES THAT ARE AS ARGUEMENT AND THE R,G,B VALUES IN THE DATA FRAME. THIS SUM IS STORED IN A VARIABLE D. THEN WE COMPARE IT WITH THE MINIMUM VALUES AND IF SATISFY THE CONDITION THEN WE FIND OUT THE COLOUR NAME USING loc[d,\"color_name\"]. AND THEN WE RETURN THE COLOR NAME."
   ]
  },
  {
   "cell_type": "code",
   "execution_count": null,
   "id": "cad0f8c7",
   "metadata": {},
   "outputs": [],
   "source": [
    "def get_color_name(R,G,B):\n",
    "    min=1000\n",
    "    for i in range(len(colors_df)):\n",
    "        d=abs(R-colors_df.loc[i,\"R\"])+abs(B-colors_df.loc[i,\"B\"])+abs(G-colors_df.loc[i,\"G\"])\n",
    "        if d<=min:\n",
    "            min=d\n",
    "            color_name=colors_df.loc[d,\"color_name\"]\n",
    "            return color_name\n",
    "            "
   ]
  },
  {
   "cell_type": "markdown",
   "id": "5c53adcf",
   "metadata": {},
   "source": [
    "WE  CAN  CREATE  A  WINDOW  AND  NAME  IT  USING  THE nameWindow  FUNCTION."
   ]
  },
  {
   "cell_type": "markdown",
   "id": "908c28d2",
   "metadata": {},
   "source": [
    "WE  HAVE CALLED A FUNCTION  setMouseCallback  .  WHAT  IT  WILL  DO  IS  WHENEVER  THERE  WILL  BE  A  MOUSEEVENT   THEN  IT WILL  CALL  THE  FUNCTION  find_bgr  WHICH  THEN  WILL  BE  USED  TO  GET  THE  VALUES  OF  B,G,R  AT  THAT  POINT ."
   ]
  },
  {
   "cell_type": "code",
   "execution_count": null,
   "id": "b6a3b44a",
   "metadata": {},
   "outputs": [],
   "source": [
    "cv2.namedWindow('image')\n",
    "cv2.setMouseCallback('image',find_bgr)"
   ]
  },
  {
   "cell_type": "markdown",
   "id": "bded539c",
   "metadata": {},
   "source": [
    "FINALLY  USING   A  WHILE  LOOP  WE  CONTINUE  OUR  FINDING  OF  THE  COLOUR  OF  THE  POINT  AT  WHEREEVER  THE  MOUSE  EVENT  OCCURS  UNLESS  WE  PRESS  ESACPE  OR  NO EVENT  OCCURS  TILL  20  SECONDS."
   ]
  },
  {
   "cell_type": "code",
   "execution_count": null,
   "id": "d28d86b4",
   "metadata": {},
   "outputs": [],
   "source": [
    "while True:\n",
    "    cv2.imshow('image',img)\n",
    "    if clicked:\n",
    "        cv2.rectangle(img,(20,20),(600,60),(b,g,r),-1)\n",
    "        text=get_color_name(r,g,b)+'R='+str(r)+','+'G='+str(g)+','+'B='+str(b)\n",
    "        cv2.putText(img,text,(50,50),2,0.8,(255,255,255),2,cv2.LINE_AA)\n",
    "        if r+g+b<=600:\n",
    "            cv2.putText(img,text,(50,50),2,0.8,(0,0,0),2,cv2.LINE_AA)\n",
    "        \n",
    "    if cv2.waitKey(20) & 0XFF == 27:\n",
    "        break\n",
    "cv2.destroyAllWindows()        "
   ]
  },
  {
   "cell_type": "markdown",
   "id": "f294ef8e",
   "metadata": {},
   "source": [
    "# THANKYOU"
   ]
  }
 ],
 "metadata": {
  "kernelspec": {
   "display_name": "Python 3 (ipykernel)",
   "language": "python",
   "name": "python3"
  },
  "language_info": {
   "codemirror_mode": {
    "name": "ipython",
    "version": 3
   },
   "file_extension": ".py",
   "mimetype": "text/x-python",
   "name": "python",
   "nbconvert_exporter": "python",
   "pygments_lexer": "ipython3",
   "version": "3.10.0"
  }
 },
 "nbformat": 4,
 "nbformat_minor": 5
}
